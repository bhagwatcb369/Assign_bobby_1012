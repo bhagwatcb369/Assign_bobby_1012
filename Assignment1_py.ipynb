{
  "nbformat": 4,
  "nbformat_minor": 0,
  "metadata": {
    "colab": {
      "provenance": [],
      "authorship_tag": "ABX9TyPa6Fo3PYbSuD0Z/kfrpNNI",
      "include_colab_link": true
    },
    "kernelspec": {
      "name": "python3",
      "display_name": "Python 3"
    },
    "language_info": {
      "name": "python"
    }
  },
  "cells": [
    {
      "cell_type": "markdown",
      "metadata": {
        "id": "view-in-github",
        "colab_type": "text"
      },
      "source": [
        "<a href=\"https://colab.research.google.com/github/bhagwatcb369/Assign_bobby_1012/blob/main/Assignment1_py.ipynb\" target=\"_parent\"><img src=\"https://colab.research.google.com/assets/colab-badge.svg\" alt=\"Open In Colab\"/></a>"
      ]
    },
    {
      "cell_type": "code",
      "source": [
        "bin(5)"
      ],
      "metadata": {
        "colab": {
          "base_uri": "https://localhost:8080/",
          "height": 35
        },
        "id": "o78hdivSJfrK",
        "outputId": "7dff3f17-8496-4435-b33e-f776ff2d6d7b"
      },
      "execution_count": 45,
      "outputs": [
        {
          "output_type": "execute_result",
          "data": {
            "text/plain": [
              "'0b101'"
            ],
            "application/vnd.google.colaboratory.intrinsic+json": {
              "type": "string"
            }
          },
          "metadata": {},
          "execution_count": 45
        }
      ]
    },
    {
      "cell_type": "code",
      "source": [
        "print(\"hello world\")"
      ],
      "metadata": {
        "colab": {
          "base_uri": "https://localhost:8080/"
        },
        "id": "Gjv6EcEyJapy",
        "outputId": "43c4e664-f753-4e8f-9d71-9bf007d440fd"
      },
      "execution_count": 46,
      "outputs": [
        {
          "output_type": "stream",
          "name": "stdout",
          "text": [
            "hello world\n"
          ]
        }
      ]
    },
    {
      "cell_type": "code",
      "source": [
        "a = 5\n",
        "if a % 2 == 0:\n",
        "  print(\"Even number\")\n",
        "else:\n",
        "  print(\"Odd number\")"
      ],
      "metadata": {
        "colab": {
          "base_uri": "https://localhost:8080/"
        },
        "id": "Vdzum7QoJ0Ll",
        "outputId": "2db56790-01a4-4461-f169-f143b42a1e7a"
      },
      "execution_count": 47,
      "outputs": [
        {
          "output_type": "stream",
          "name": "stdout",
          "text": [
            "Odd number\n"
          ]
        }
      ]
    },
    {
      "cell_type": "code",
      "source": [
        "marks = 67\n",
        "if marks >= 80:\n",
        "  print(\"Grade A\")\n",
        "elif marks >= 60:\n",
        "  print(\"Grade B\")\n",
        "elif marks >= 40:\n",
        "  print(\"Grade C\")\n",
        "else:\n",
        "  print(\"Fail\")"
      ],
      "metadata": {
        "colab": {
          "base_uri": "https://localhost:8080/"
        },
        "id": "GgY7BGT1I13M",
        "outputId": "50059fc2-aae1-4dfc-f714-419b034133b7"
      },
      "execution_count": 48,
      "outputs": [
        {
          "output_type": "stream",
          "name": "stdout",
          "text": [
            "Grade B\n"
          ]
        }
      ]
    },
    {
      "cell_type": "code",
      "source": [
        "marks = 67\n",
        "if marks >=80:\n",
        "  print(\"Grade A\")\n",
        "elif marks >=50:\n",
        "  print(\"Grade B\")\n",
        "else:\n",
        "  print(\"Grade C\")"
      ],
      "metadata": {
        "colab": {
          "base_uri": "https://localhost:8080/"
        },
        "id": "nLzmNEfGKRtd",
        "outputId": "cb45a61e-1134-4073-db41-8d86216c921f"
      },
      "execution_count": 49,
      "outputs": [
        {
          "output_type": "stream",
          "name": "stdout",
          "text": [
            "Grade B\n"
          ]
        }
      ]
    },
    {
      "cell_type": "code",
      "source": [
        "hour = 12\n",
        "if hour < 12:\n",
        "  print(\"Good morning\")\n",
        "elif hour < 18:\n",
        "  print(\"Good afternoon\")\n",
        "else:\n",
        "  print(\"Good evening\")"
      ],
      "metadata": {
        "colab": {
          "base_uri": "https://localhost:8080/"
        },
        "id": "eBZDy7ouLHHK",
        "outputId": "384288c4-5a74-427d-e250-c5f87ce096d0"
      },
      "execution_count": 50,
      "outputs": [
        {
          "output_type": "stream",
          "name": "stdout",
          "text": [
            "Good afternoon\n"
          ]
        }
      ]
    },
    {
      "cell_type": "code",
      "metadata": {
        "colab": {
          "base_uri": "https://localhost:8080/"
        },
        "id": "d059dfc9",
        "outputId": "a24d71e6-23b4-4143-d590-b6b37e436577"
      },
      "source": [
        "temperature = 25\n",
        "is_sunny = True\n",
        "\n",
        "if temperature > 20:\n",
        "  print(\"It's warm.\")\n",
        "  if is_sunny:\n",
        "    print(\"It's also sunny!\")\n",
        "  else:\n",
        "    print(\"But it's not sunny.\")\n",
        "else:\n",
        "  print(\"It's not very warm.\")\n",
        "  if is_sunny:\n",
        "    print(\"But at least it's sunny.\")\n",
        "  else:\n",
        "    print(\"And it's not sunny.\")"
      ],
      "execution_count": 51,
      "outputs": [
        {
          "output_type": "stream",
          "name": "stdout",
          "text": [
            "It's warm.\n",
            "It's also sunny!\n"
          ]
        }
      ]
    },
    {
      "cell_type": "code",
      "source": [
        "\"hello\""
      ],
      "metadata": {
        "colab": {
          "base_uri": "https://localhost:8080/",
          "height": 35
        },
        "id": "kDgaMNvFMqxH",
        "outputId": "269a8855-bcac-4a01-9e76-d793f98b878e"
      },
      "execution_count": 52,
      "outputs": [
        {
          "output_type": "execute_result",
          "data": {
            "text/plain": [
              "'hello'"
            ],
            "application/vnd.google.colaboratory.intrinsic+json": {
              "type": "string"
            }
          },
          "metadata": {},
          "execution_count": 52
        }
      ]
    },
    {
      "cell_type": "code",
      "source": [
        "'hello'"
      ],
      "metadata": {
        "colab": {
          "base_uri": "https://localhost:8080/",
          "height": 35
        },
        "id": "EJ-MDHqlNcn0",
        "outputId": "452a8397-cecc-4305-f41a-531b1b5b4765"
      },
      "execution_count": 53,
      "outputs": [
        {
          "output_type": "execute_result",
          "data": {
            "text/plain": [
              "'hello'"
            ],
            "application/vnd.google.colaboratory.intrinsic+json": {
              "type": "string"
            }
          },
          "metadata": {},
          "execution_count": 53
        }
      ]
    },
    {
      "cell_type": "code",
      "source": [
        "'''hello'''"
      ],
      "metadata": {
        "colab": {
          "base_uri": "https://localhost:8080/",
          "height": 35
        },
        "id": "e2Q_nXyjNeUk",
        "outputId": "f9be2309-b213-4bfa-f521-aa29c0cbb9ee"
      },
      "execution_count": 54,
      "outputs": [
        {
          "output_type": "execute_result",
          "data": {
            "text/plain": [
              "'hello'"
            ],
            "application/vnd.google.colaboratory.intrinsic+json": {
              "type": "string"
            }
          },
          "metadata": {},
          "execution_count": 54
        }
      ]
    },
    {
      "cell_type": "code",
      "source": [
        "\"\"\"hello\"\"\""
      ],
      "metadata": {
        "colab": {
          "base_uri": "https://localhost:8080/",
          "height": 35
        },
        "id": "zq-BNZwHNr3z",
        "outputId": "b2f9960e-6f8a-4015-fb43-f3c93ec21bad"
      },
      "execution_count": 55,
      "outputs": [
        {
          "output_type": "execute_result",
          "data": {
            "text/plain": [
              "'hello'"
            ],
            "application/vnd.google.colaboratory.intrinsic+json": {
              "type": "string"
            }
          },
          "metadata": {},
          "execution_count": 55
        }
      ]
    }
  ]
}