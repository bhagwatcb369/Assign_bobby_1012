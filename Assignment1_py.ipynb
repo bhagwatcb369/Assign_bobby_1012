{
  "nbformat": 4,
  "nbformat_minor": 0,
  "metadata": {
    "colab": {
      "provenance": [],
      "authorship_tag": "ABX9TyOtp+omIYz2wGFbGfUcHEfv",
      "include_colab_link": true
    },
    "kernelspec": {
      "name": "python3",
      "display_name": "Python 3"
    },
    "language_info": {
      "name": "python"
    }
  },
  "cells": [
    {
      "cell_type": "markdown",
      "metadata": {
        "id": "view-in-github",
        "colab_type": "text"
      },
      "source": [
        "<a href=\"https://colab.research.google.com/github/bhagwatcb369/Assign_bobby_1012/blob/main/Assignment1_py.ipynb\" target=\"_parent\"><img src=\"https://colab.research.google.com/assets/colab-badge.svg\" alt=\"Open In Colab\"/></a>"
      ]
    },
    {
      "cell_type": "markdown",
      "source": [
        "bin(5)"
      ],
      "metadata": {
        "id": "2MWWT516sQBQ"
      }
    },
    {
      "cell_type": "markdown",
      "source": [
        "print(\"hello world\")\n",
        "\n"
      ],
      "metadata": {
        "id": "0WwVwRQ6-Dfn"
      }
    },
    {
      "cell_type": "markdown",
      "source": [
        "a = 5\n",
        "if a % 2 == 0:\n",
        "  print(\"Even number\")\n",
        "else:\n",
        "  print(\"Odd number\")"
      ],
      "metadata": {
        "id": "uxzzfRHf-IaA"
      }
    },
    {
      "cell_type": "code",
      "source": [
        "marks = 67\n",
        "if marks >= 80:\n",
        "  print(\"Grade A\")\n",
        "elif marks >= 60:\n",
        "  print(\"Grade B\")\n",
        "elif marks >= 40:\n",
        "  print(\"Grade C\")\n",
        "else:\n",
        "  print(\"Fail\")"
      ],
      "metadata": {
        "colab": {
          "base_uri": "https://localhost:8080/"
        },
        "id": "GgY7BGT1I13M",
        "outputId": "b7532bcb-b15b-44f6-e24f-81cedbbc9e8b"
      },
      "execution_count": 9,
      "outputs": [
        {
          "output_type": "stream",
          "name": "stdout",
          "text": [
            "Grade B\n"
          ]
        }
      ]
    }
  ]
}