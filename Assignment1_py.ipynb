{
  "nbformat": 4,
  "nbformat_minor": 0,
  "metadata": {
    "colab": {
      "provenance": [],
      "authorship_tag": "ABX9TyMaCmhuPQGfyumDRbvrrqT4",
      "include_colab_link": true
    },
    "kernelspec": {
      "name": "python3",
      "display_name": "Python 3"
    },
    "language_info": {
      "name": "python"
    }
  },
  "cells": [
    {
      "cell_type": "markdown",
      "metadata": {
        "id": "view-in-github",
        "colab_type": "text"
      },
      "source": [
        "<a href=\"https://colab.research.google.com/github/bhagwatcb369/Assign_bobby_1012/blob/main/Assignment1_py.ipynb\" target=\"_parent\"><img src=\"https://colab.research.google.com/assets/colab-badge.svg\" alt=\"Open In Colab\"/></a>"
      ]
    },
    {
      "cell_type": "code",
      "source": [
        "bin(5)"
      ],
      "metadata": {
        "colab": {
          "base_uri": "https://localhost:8080/",
          "height": 35
        },
        "id": "o78hdivSJfrK",
        "outputId": "584e4c71-99d0-468d-da6d-3bf2158d19f1"
      },
      "execution_count": 28,
      "outputs": [
        {
          "output_type": "execute_result",
          "data": {
            "text/plain": [
              "'0b101'"
            ],
            "application/vnd.google.colaboratory.intrinsic+json": {
              "type": "string"
            }
          },
          "metadata": {},
          "execution_count": 28
        }
      ]
    },
    {
      "cell_type": "code",
      "source": [
        "print(\"hello world\")"
      ],
      "metadata": {
        "colab": {
          "base_uri": "https://localhost:8080/"
        },
        "id": "Gjv6EcEyJapy",
        "outputId": "f5e24f70-6b4f-43b9-e4f6-d0f5f07cde5f"
      },
      "execution_count": 29,
      "outputs": [
        {
          "output_type": "stream",
          "name": "stdout",
          "text": [
            "hello world\n"
          ]
        }
      ]
    },
    {
      "cell_type": "code",
      "source": [
        "a = 5\n",
        "if a % 2 == 0:\n",
        "  print(\"Even number\")\n",
        "else:\n",
        "  print(\"Odd number\")"
      ],
      "metadata": {
        "colab": {
          "base_uri": "https://localhost:8080/"
        },
        "id": "Vdzum7QoJ0Ll",
        "outputId": "1532db2a-d7ed-4c38-d7e7-446c6b2d5f9e"
      },
      "execution_count": 30,
      "outputs": [
        {
          "output_type": "stream",
          "name": "stdout",
          "text": [
            "Odd number\n"
          ]
        }
      ]
    },
    {
      "cell_type": "code",
      "source": [
        "marks = 67\n",
        "if marks >= 80:\n",
        "  print(\"Grade A\")\n",
        "elif marks >= 60:\n",
        "  print(\"Grade B\")\n",
        "elif marks >= 40:\n",
        "  print(\"Grade C\")\n",
        "else:\n",
        "  print(\"Fail\")"
      ],
      "metadata": {
        "colab": {
          "base_uri": "https://localhost:8080/"
        },
        "id": "GgY7BGT1I13M",
        "outputId": "eb74b5b5-a21a-4445-fdb5-2044d23946e1"
      },
      "execution_count": 31,
      "outputs": [
        {
          "output_type": "stream",
          "name": "stdout",
          "text": [
            "Grade B\n"
          ]
        }
      ]
    },
    {
      "cell_type": "code",
      "source": [
        "marks = 67\n",
        "if marks >=80:\n",
        "  print(\"Grade A\")\n",
        "elif marks >=50:\n",
        "  print(\"Grade B\")\n",
        "else:\n",
        "  print(\"Grade C\")"
      ],
      "metadata": {
        "colab": {
          "base_uri": "https://localhost:8080/"
        },
        "id": "nLzmNEfGKRtd",
        "outputId": "0d256ae9-c4a9-4b07-bfd2-575913f7dc92"
      },
      "execution_count": 32,
      "outputs": [
        {
          "output_type": "stream",
          "name": "stdout",
          "text": [
            "Grade B\n"
          ]
        }
      ]
    },
    {
      "cell_type": "code",
      "source": [
        "hour = 12\n",
        "if hour < 12:\n",
        "  print(\"Good morning\")\n",
        "elif hour < 18:\n",
        "  print(\"Good afternoon\")\n",
        "else:\n",
        "  print(\"Good evening\")"
      ],
      "metadata": {
        "colab": {
          "base_uri": "https://localhost:8080/"
        },
        "id": "eBZDy7ouLHHK",
        "outputId": "65564d1e-8838-4898-bb9a-a690ef99582e"
      },
      "execution_count": 33,
      "outputs": [
        {
          "output_type": "stream",
          "name": "stdout",
          "text": [
            "Good afternoon\n"
          ]
        }
      ]
    },
    {
      "cell_type": "code",
      "metadata": {
        "colab": {
          "base_uri": "https://localhost:8080/"
        },
        "id": "d059dfc9",
        "outputId": "90d10a4c-68a5-4dd5-c11b-83735526f9f2"
      },
      "source": [
        "temperature = 25\n",
        "is_sunny = True\n",
        "\n",
        "if temperature > 20:\n",
        "  print(\"It's warm.\")\n",
        "  if is_sunny:\n",
        "    print(\"It's also sunny!\")\n",
        "  else:\n",
        "    print(\"But it's not sunny.\")\n",
        "else:\n",
        "  print(\"It's not very warm.\")\n",
        "  if is_sunny:\n",
        "    print(\"But at least it's sunny.\")\n",
        "  else:\n",
        "    print(\"And it's not sunny.\")"
      ],
      "execution_count": 34,
      "outputs": [
        {
          "output_type": "stream",
          "name": "stdout",
          "text": [
            "It's warm.\n",
            "It's also sunny!\n"
          ]
        }
      ]
    }
  ]
}